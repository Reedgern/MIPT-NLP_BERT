{
  "nbformat": 4,
  "nbformat_minor": 0,
  "metadata": {
    "colab": {
      "name": "bert_task.ipynb",
      "provenance": [],
      "collapsed_sections": []
    },
    "kernelspec": {
      "name": "python3",
      "display_name": "Python 3"
    },
    "language_info": {
      "name": "python"
    },
    "accelerator": "GPU"
  },
  "cells": [
    {
      "cell_type": "code",
      "metadata": {
        "colab": {
          "base_uri": "https://localhost:8080/"
        },
        "id": "CKG7OjjcF1G-",
        "outputId": "36ce8185-5710-456d-c5f8-5296cbca718e"
      },
      "source": [
        "from google.colab import drive\n",
        "drive.mount('/content/drive')"
      ],
      "execution_count": 1,
      "outputs": [
        {
          "output_type": "stream",
          "text": [
            "Mounted at /content/drive\n"
          ],
          "name": "stdout"
        }
      ]
    },
    {
      "cell_type": "code",
      "metadata": {
        "colab": {
          "base_uri": "https://localhost:8080/"
        },
        "id": "UBBgQZtNX0N7",
        "outputId": "d7bdcf89-7c09-420b-ef09-fd7b02b0e792"
      },
      "source": [
        "!pip install tqdm==4.58.0\n",
        "!pip install requests==2.25.1\n",
        "!pip install importlib-metadata==3.7.0\n",
        "!pip install filelock==3.0.12\n",
        "!pip install sklearn==0.0\n",
        "!pip install tokenizers==0.10.1"
      ],
      "execution_count": 2,
      "outputs": [
        {
          "output_type": "stream",
          "text": [
            "Collecting tqdm==4.58.0\n",
            "\u001b[?25l  Downloading https://files.pythonhosted.org/packages/4e/8c/f1035bd24b0e352ddba7be320abc1603fc4c9976fcda6971ed287be59164/tqdm-4.58.0-py2.py3-none-any.whl (73kB)\n",
            "\r\u001b[K     |████▌                           | 10kB 24.2MB/s eta 0:00:01\r\u001b[K     |█████████                       | 20kB 18.0MB/s eta 0:00:01\r\u001b[K     |█████████████▍                  | 30kB 11.0MB/s eta 0:00:01\r\u001b[K     |██████████████████              | 40kB 9.2MB/s eta 0:00:01\r\u001b[K     |██████████████████████▍         | 51kB 7.7MB/s eta 0:00:01\r\u001b[K     |██████████████████████████▉     | 61kB 9.0MB/s eta 0:00:01\r\u001b[K     |███████████████████████████████▍| 71kB 8.7MB/s eta 0:00:01\r\u001b[K     |████████████████████████████████| 81kB 5.9MB/s \n",
            "\u001b[?25hInstalling collected packages: tqdm\n",
            "  Found existing installation: tqdm 4.41.1\n",
            "    Uninstalling tqdm-4.41.1:\n",
            "      Successfully uninstalled tqdm-4.41.1\n",
            "Successfully installed tqdm-4.58.0\n",
            "Collecting requests==2.25.1\n",
            "\u001b[?25l  Downloading https://files.pythonhosted.org/packages/29/c1/24814557f1d22c56d50280771a17307e6bf87b70727d975fd6b2ce6b014a/requests-2.25.1-py2.py3-none-any.whl (61kB)\n",
            "\u001b[K     |████████████████████████████████| 61kB 4.6MB/s \n",
            "\u001b[?25hRequirement already satisfied: urllib3<1.27,>=1.21.1 in /usr/local/lib/python3.7/dist-packages (from requests==2.25.1) (1.24.3)\n",
            "Requirement already satisfied: certifi>=2017.4.17 in /usr/local/lib/python3.7/dist-packages (from requests==2.25.1) (2021.5.30)\n",
            "Requirement already satisfied: idna<3,>=2.5 in /usr/local/lib/python3.7/dist-packages (from requests==2.25.1) (2.10)\n",
            "Requirement already satisfied: chardet<5,>=3.0.2 in /usr/local/lib/python3.7/dist-packages (from requests==2.25.1) (3.0.4)\n",
            "\u001b[31mERROR: google-colab 1.0.0 has requirement requests~=2.23.0, but you'll have requests 2.25.1 which is incompatible.\u001b[0m\n",
            "\u001b[31mERROR: datascience 0.10.6 has requirement folium==0.2.1, but you'll have folium 0.8.3 which is incompatible.\u001b[0m\n",
            "Installing collected packages: requests\n",
            "  Found existing installation: requests 2.23.0\n",
            "    Uninstalling requests-2.23.0:\n",
            "      Successfully uninstalled requests-2.23.0\n",
            "Successfully installed requests-2.25.1\n",
            "Collecting importlib-metadata==3.7.0\n",
            "  Downloading https://files.pythonhosted.org/packages/3a/0d/af9e3dce6524461fa1e8327449f392edac8a3d880b4c91ce3e2d25450d03/importlib_metadata-3.7.0-py3-none-any.whl\n",
            "Requirement already satisfied: typing-extensions>=3.6.4; python_version < \"3.8\" in /usr/local/lib/python3.7/dist-packages (from importlib-metadata==3.7.0) (3.7.4.3)\n",
            "Requirement already satisfied: zipp>=0.5 in /usr/local/lib/python3.7/dist-packages (from importlib-metadata==3.7.0) (3.4.1)\n",
            "Installing collected packages: importlib-metadata\n",
            "  Found existing installation: importlib-metadata 4.5.0\n",
            "    Uninstalling importlib-metadata-4.5.0:\n",
            "      Successfully uninstalled importlib-metadata-4.5.0\n",
            "Successfully installed importlib-metadata-3.7.0\n",
            "Requirement already satisfied: filelock==3.0.12 in /usr/local/lib/python3.7/dist-packages (3.0.12)\n",
            "Requirement already satisfied: sklearn==0.0 in /usr/local/lib/python3.7/dist-packages (0.0)\n",
            "Requirement already satisfied: scikit-learn in /usr/local/lib/python3.7/dist-packages (from sklearn==0.0) (0.22.2.post1)\n",
            "Requirement already satisfied: numpy>=1.11.0 in /usr/local/lib/python3.7/dist-packages (from scikit-learn->sklearn==0.0) (1.19.5)\n",
            "Requirement already satisfied: scipy>=0.17.0 in /usr/local/lib/python3.7/dist-packages (from scikit-learn->sklearn==0.0) (1.4.1)\n",
            "Requirement already satisfied: joblib>=0.11 in /usr/local/lib/python3.7/dist-packages (from scikit-learn->sklearn==0.0) (1.0.1)\n",
            "Collecting tokenizers==0.10.1\n",
            "\u001b[?25l  Downloading https://files.pythonhosted.org/packages/71/23/2ddc317b2121117bf34dd00f5b0de194158f2a44ee2bf5e47c7166878a97/tokenizers-0.10.1-cp37-cp37m-manylinux2010_x86_64.whl (3.2MB)\n",
            "\u001b[K     |████████████████████████████████| 3.2MB 8.5MB/s \n",
            "\u001b[?25hInstalling collected packages: tokenizers\n",
            "Successfully installed tokenizers-0.10.1\n"
          ],
          "name": "stdout"
        }
      ]
    },
    {
      "cell_type": "code",
      "metadata": {
        "id": "wV3ExVUAZj8p"
      },
      "source": [
        "import os\n",
        "\n",
        "project_folder = 'drive/MyDrive/NLP_homework/minbert-assignment'\n",
        "os.chdir(project_folder)"
      ],
      "execution_count": 3,
      "outputs": []
    },
    {
      "cell_type": "code",
      "metadata": {
        "id": "Q9MlkD9LWKCC"
      },
      "source": [
        "NUM_EPOCHS = 50\n",
        "LR = 1e-3"
      ],
      "execution_count": 4,
      "outputs": []
    },
    {
      "cell_type": "code",
      "metadata": {
        "colab": {
          "base_uri": "https://localhost:8080/"
        },
        "id": "IRqBFH6JX657",
        "outputId": "83ca3514-579f-4745-a171-50b08d85ddfb"
      },
      "source": [
        "! python3 classifier.py --option pretrain --epochs $NUM_EPOCHS --lr $LR --train data/sst-train.txt --dev data/sst-dev.txt --test data/sst-test.txt"
      ],
      "execution_count": 5,
      "outputs": [
        {
          "output_type": "stream",
          "text": [
            "RUN: {'train': 'data/sst-train.txt', 'dev': 'data/sst-dev.txt', 'test': 'data/sst-test.txt', 'seed': 11747, 'batch_size': 80, 'epochs': 50, 'lr': 0.001, 'option': 'pretrain', 'cuda': '1', 'dev_out': 'sst-dev-output.txt', 'test_out': 'sst-test-output.txt'}\n",
            "Downloading: 100% 232k/232k [00:00<00:00, 1.82MB/s]\n",
            "Downloading: 100% 570/570 [00:00<00:00, 551kB/s]\n",
            "Downloading: 100% 440M/440M [00:07<00:00, 60.9MB/s]\n",
            "For seed 11747\t  Dev acc :: 0.40054495912806537\t Test acc :: 0.41402714932126694\n"
          ],
          "name": "stdout"
        }
      ]
    },
    {
      "cell_type": "code",
      "metadata": {
        "colab": {
          "base_uri": "https://localhost:8080/"
        },
        "id": "03YJmfZvVkE-",
        "outputId": "a058237b-4c65-4ee3-b5be-245c7736f101"
      },
      "source": [
        "! python3 classifier.py --option finetune --epochs $NUM_EPOCHS --lr $LR --train data/sst-train.txt --dev data/sst-dev.txt --test data/sst-test.txt"
      ],
      "execution_count": 6,
      "outputs": [
        {
          "output_type": "stream",
          "text": [
            "RUN: {'train': 'data/sst-train.txt', 'dev': 'data/sst-dev.txt', 'test': 'data/sst-test.txt', 'seed': 11747, 'batch_size': 80, 'epochs': 50, 'lr': 0.001, 'option': 'finetune', 'cuda': '1', 'dev_out': 'sst-dev-output.txt', 'test_out': 'sst-test-output.txt'}\n",
            "Loading Done\n",
            "Epoch 0 \t Train loss :: 1.578 \t Train Acc :: 0.275 \t Dev Acc :: 0.28\n",
            "Epoch 1 \t Train loss :: 1.547 \t Train Acc :: 0.345 \t Dev Acc :: 0.327\n",
            "Epoch 2 \t Train loss :: 1.513 \t Train Acc :: 0.376 \t Dev Acc :: 0.361\n",
            "Epoch 3 \t Train loss :: 1.496 \t Train Acc :: 0.354 \t Dev Acc :: 0.341\n",
            "Epoch 4 \t Train loss :: 1.485 \t Train Acc :: 0.323 \t Dev Acc :: 0.305\n",
            "Epoch 5 \t Train loss :: 1.47 \t Train Acc :: 0.404 \t Dev Acc :: 0.384\n",
            "Epoch 6 \t Train loss :: 1.462 \t Train Acc :: 0.352 \t Dev Acc :: 0.337\n",
            "Epoch 7 \t Train loss :: 1.451 \t Train Acc :: 0.345 \t Dev Acc :: 0.324\n",
            "Epoch 8 \t Train loss :: 1.439 \t Train Acc :: 0.412 \t Dev Acc :: 0.383\n",
            "Epoch 9 \t Train loss :: 1.443 \t Train Acc :: 0.375 \t Dev Acc :: 0.361\n",
            "Epoch 10 \t Train loss :: 1.45 \t Train Acc :: 0.39 \t Dev Acc :: 0.363\n",
            "Epoch 11 \t Train loss :: 1.437 \t Train Acc :: 0.426 \t Dev Acc :: 0.392\n",
            "Epoch 12 \t Train loss :: 1.423 \t Train Acc :: 0.415 \t Dev Acc :: 0.398\n",
            "Epoch 13 \t Train loss :: 1.427 \t Train Acc :: 0.424 \t Dev Acc :: 0.396\n",
            "Epoch 14 \t Train loss :: 1.429 \t Train Acc :: 0.392 \t Dev Acc :: 0.376\n",
            "Epoch 15 \t Train loss :: 1.423 \t Train Acc :: 0.417 \t Dev Acc :: 0.391\n",
            "Epoch 16 \t Train loss :: 1.429 \t Train Acc :: 0.441 \t Dev Acc :: 0.403\n",
            "Epoch 17 \t Train loss :: 1.423 \t Train Acc :: 0.422 \t Dev Acc :: 0.397\n",
            "Epoch 18 \t Train loss :: 1.419 \t Train Acc :: 0.411 \t Dev Acc :: 0.389\n",
            "Epoch 19 \t Train loss :: 1.419 \t Train Acc :: 0.428 \t Dev Acc :: 0.401\n",
            "Epoch 20 \t Train loss :: 1.41 \t Train Acc :: 0.423 \t Dev Acc :: 0.409\n",
            "Epoch 21 \t Train loss :: 1.414 \t Train Acc :: 0.413 \t Dev Acc :: 0.403\n",
            "Epoch 22 \t Train loss :: 1.416 \t Train Acc :: 0.432 \t Dev Acc :: 0.403\n",
            "Epoch 23 \t Train loss :: 1.423 \t Train Acc :: 0.409 \t Dev Acc :: 0.378\n",
            "Epoch 24 \t Train loss :: 1.416 \t Train Acc :: 0.432 \t Dev Acc :: 0.401\n",
            "Epoch 25 \t Train loss :: 1.41 \t Train Acc :: 0.429 \t Dev Acc :: 0.421\n",
            "Epoch 26 \t Train loss :: 1.403 \t Train Acc :: 0.437 \t Dev Acc :: 0.4\n",
            "Epoch 27 \t Train loss :: 1.406 \t Train Acc :: 0.428 \t Dev Acc :: 0.401\n",
            "Epoch 28 \t Train loss :: 1.41 \t Train Acc :: 0.434 \t Dev Acc :: 0.403\n",
            "Epoch 29 \t Train loss :: 1.408 \t Train Acc :: 0.388 \t Dev Acc :: 0.358\n",
            "Epoch 30 \t Train loss :: 1.412 \t Train Acc :: 0.427 \t Dev Acc :: 0.399\n",
            "Epoch 31 \t Train loss :: 1.403 \t Train Acc :: 0.431 \t Dev Acc :: 0.408\n",
            "Epoch 32 \t Train loss :: 1.402 \t Train Acc :: 0.401 \t Dev Acc :: 0.391\n",
            "Epoch 33 \t Train loss :: 1.404 \t Train Acc :: 0.433 \t Dev Acc :: 0.391\n",
            "Epoch 34 \t Train loss :: 1.403 \t Train Acc :: 0.417 \t Dev Acc :: 0.381\n",
            "Epoch 35 \t Train loss :: 1.398 \t Train Acc :: 0.436 \t Dev Acc :: 0.403\n",
            "Epoch 36 \t Train loss :: 1.407 \t Train Acc :: 0.418 \t Dev Acc :: 0.401\n",
            "Epoch 37 \t Train loss :: 1.399 \t Train Acc :: 0.422 \t Dev Acc :: 0.397\n",
            "Epoch 38 \t Train loss :: 1.406 \t Train Acc :: 0.436 \t Dev Acc :: 0.406\n",
            "Epoch 39 \t Train loss :: 1.398 \t Train Acc :: 0.427 \t Dev Acc :: 0.388\n",
            "Epoch 40 \t Train loss :: 1.408 \t Train Acc :: 0.447 \t Dev Acc :: 0.411\n",
            "Epoch 41 \t Train loss :: 1.402 \t Train Acc :: 0.437 \t Dev Acc :: 0.396\n",
            "Epoch 42 \t Train loss :: 1.406 \t Train Acc :: 0.429 \t Dev Acc :: 0.395\n",
            "Epoch 43 \t Train loss :: 1.408 \t Train Acc :: 0.449 \t Dev Acc :: 0.408\n",
            "Epoch 44 \t Train loss :: 1.404 \t Train Acc :: 0.422 \t Dev Acc :: 0.391\n",
            "Epoch 45 \t Train loss :: 1.404 \t Train Acc :: 0.439 \t Dev Acc :: 0.405\n",
            "Epoch 46 \t Train loss :: 1.397 \t Train Acc :: 0.414 \t Dev Acc :: 0.383\n",
            "Epoch 47 \t Train loss :: 1.404 \t Train Acc :: 0.412 \t Dev Acc :: 0.383\n",
            "Epoch 48 \t Train loss :: 1.412 \t Train Acc :: 0.421 \t Dev Acc :: 0.395\n",
            "Epoch 49 \t Train loss :: 1.4 \t Train Acc :: 0.437 \t Dev Acc :: 0.411\n",
            "For seed 11747\t  Dev acc :: 0.42052679382379654\t Test acc :: 0.4257918552036199\n"
          ],
          "name": "stdout"
        }
      ]
    }
  ]
}